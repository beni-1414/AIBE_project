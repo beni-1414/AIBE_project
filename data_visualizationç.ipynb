{
 "cells": [
  {
   "cell_type": "code",
   "execution_count": 1,
   "metadata": {},
   "outputs": [
    {
     "name": "stdout",
     "output_type": "stream",
     "text": [
      "Current directory: c:\\Users\\jon\\Desktop\\ENG BIO\\4º\\2º Semestre\\AI\\AIBE_project\n"
     ]
    }
   ],
   "source": [
    "import os\n",
    "\n",
    "# Get the current working directory\n",
    "current_directory = os.getcwd()\n",
    "\n",
    "# Print the current directory\n",
    "print(\"Current directory:\", current_directory)\n"
   ]
  },
  {
   "cell_type": "code",
   "execution_count": 2,
   "metadata": {},
   "outputs": [
    {
     "name": "stdout",
     "output_type": "stream",
     "text": [
      "       index     id    age  gender  height  weight  ap_hi  ap_lo  cholesterol  \\\n",
      "0          0      0  18393       2     168    62.0    110     80            1   \n",
      "1          1      1  20228       1     156    85.0    140     90            3   \n",
      "2          2      2  18857       1     165    64.0    130     70            3   \n",
      "3          3      3  17623       2     169    82.0    150    100            1   \n",
      "4          4      4  17474       1     156    56.0    100     60            1   \n",
      "...      ...    ...    ...     ...     ...     ...    ...    ...          ...   \n",
      "69995  69995  99993  19240       2     168    76.0    120     80            1   \n",
      "69996  69996  99995  22601       1     158   126.0    140     90            2   \n",
      "69997  69997  99996  19066       2     183   105.0    180     90            3   \n",
      "69998  69998  99998  22431       1     163    72.0    135     80            1   \n",
      "69999  69999  99999  20540       1     170    72.0    120     80            2   \n",
      "\n",
      "       gluc  smoke  alco  active  cardio  \n",
      "0         1      0     0       1       0  \n",
      "1         1      0     0       1       1  \n",
      "2         1      0     0       0       1  \n",
      "3         1      0     0       1       1  \n",
      "4         1      0     0       0       0  \n",
      "...     ...    ...   ...     ...     ...  \n",
      "69995     1      1     0       1       0  \n",
      "69996     2      0     0       1       1  \n",
      "69997     1      0     1       0       1  \n",
      "69998     2      0     0       0       1  \n",
      "69999     1      0     0       1       0  \n",
      "\n",
      "[70000 rows x 14 columns]\n"
     ]
    }
   ],
   "source": [
    "import pandas as pd\n",
    "\n",
    "# Define the path to your CSV file\n",
    "file_path = \"heart_data.csv\"\n",
    "\n",
    "# Read the CSV file into a DataFrame\n",
    "data = pd.read_csv(file_path)\n",
    "\n",
    "# Print the DataFrame\n",
    "print(data)\n"
   ]
  },
  {
   "cell_type": "code",
   "execution_count": 3,
   "metadata": {},
   "outputs": [],
   "source": [
    "data[\"age\"] = data[\"age\"] / 365"
   ]
  },
  {
   "cell_type": "code",
   "execution_count": 5,
   "metadata": {},
   "outputs": [],
   "source": [
    "data[\"BMI\"] = data[\"weight\"] / (data[\"height\"]/100)**2"
   ]
  },
  {
   "cell_type": "code",
   "execution_count": 6,
   "metadata": {},
   "outputs": [
    {
     "name": "stdout",
     "output_type": "stream",
     "text": [
      "       index     id        age  gender  height  weight  ap_hi  ap_lo  \\\n",
      "0          0      0  50.391781       2     168    62.0    110     80   \n",
      "1          1      1  55.419178       1     156    85.0    140     90   \n",
      "2          2      2  51.663014       1     165    64.0    130     70   \n",
      "3          3      3  48.282192       2     169    82.0    150    100   \n",
      "4          4      4  47.873973       1     156    56.0    100     60   \n",
      "...      ...    ...        ...     ...     ...     ...    ...    ...   \n",
      "69995  69995  99993  52.712329       2     168    76.0    120     80   \n",
      "69996  69996  99995  61.920548       1     158   126.0    140     90   \n",
      "69997  69997  99996  52.235616       2     183   105.0    180     90   \n",
      "69998  69998  99998  61.454795       1     163    72.0    135     80   \n",
      "69999  69999  99999  56.273973       1     170    72.0    120     80   \n",
      "\n",
      "       cholesterol  gluc  smoke  alco  active  cardio        BMI  \n",
      "0                1     1      0     0       1       0  21.967120  \n",
      "1                3     1      0     0       1       1  34.927679  \n",
      "2                3     1      0     0       0       1  23.507805  \n",
      "3                1     1      0     0       1       1  28.710479  \n",
      "4                1     1      0     0       0       0  23.011177  \n",
      "...            ...   ...    ...   ...     ...     ...        ...  \n",
      "69995            1     1      1     0       1       0  26.927438  \n",
      "69996            2     2      0     0       1       1  50.472681  \n",
      "69997            3     1      0     1       0       1  31.353579  \n",
      "69998            1     2      0     0       0       1  27.099251  \n",
      "69999            2     1      0     0       1       0  24.913495  \n",
      "\n",
      "[70000 rows x 15 columns]\n"
     ]
    }
   ],
   "source": [
    "print(data)"
   ]
  }
 ],
 "metadata": {
  "kernelspec": {
   "display_name": "Python 3",
   "language": "python",
   "name": "python3"
  },
  "language_info": {
   "codemirror_mode": {
    "name": "ipython",
    "version": 3
   },
   "file_extension": ".py",
   "mimetype": "text/x-python",
   "name": "python",
   "nbconvert_exporter": "python",
   "pygments_lexer": "ipython3",
   "version": "3.12.0"
  }
 },
 "nbformat": 4,
 "nbformat_minor": 2
}
